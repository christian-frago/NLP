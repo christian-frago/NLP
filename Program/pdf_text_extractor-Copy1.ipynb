{
 "cells": [
  {
   "cell_type": "code",
   "execution_count": 1,
   "id": "f043da0e",
   "metadata": {},
   "outputs": [
    {
     "name": "stdout",
     "output_type": "stream",
     "text": [
      "Usage: python pdf_text_extractor.py <PDF_URL>\n"
     ]
    }
   ],
   "source": [
    "import sys\n",
    "import requests\n",
    "import PyPDF2\n",
    "import os\n",
    "import subprocess\n",
    "\n",
    "def main():\n",
    "    if len(sys.argv) != 2:\n",
    "        print(\"Usage: python pdf_text_extractor.py <PDF_URL>\")\n",
    "        return\n",
    "\n",
    "    file_url = sys.argv[1]\n",
    "    filename = download_pdf(file_url)\n",
    "    print(filename, \" downloaded\")\n",
    "\n",
    "    # Open PDF file\n",
    "    pdffileObj = open(filename, 'rb')\n",
    "\n",
    "    # Create PDF reader object\n",
    "    pdfReader = PyPDF2.PdfReader(pdffileObj)\n",
    "\n",
    "    # Get the total number of pages in the PDF\n",
    "    num_pages = len(pdfReader.pages)\n",
    "    print(\"Total number of pages:\", num_pages)\n",
    "\n",
    "    # Initialize an empty variable to store the extracted text\n",
    "    all_text = \"\"\n",
    "    \n",
    "    # Loop through each page and extract text\n",
    "    for page_num in range(num_pages):\n",
    "        # Create a page object for the current page\n",
    "        pageObj = pdfReader.pages[page_num]\n",
    "        \n",
    "        # Extract text from the page\n",
    "        text = pageObj.extract_text()\n",
    "        \n",
    "        # Append the extracted text to the 'all_text' variable\n",
    "        all_text += text\n",
    "\n",
    "    pdffileObj.close()\n",
    "\n",
    "    # Call the extract_data_type.py script with all_text as an argument\n",
    "    subprocess.run([\"python\", \"extract_data_type.py\", all_text, filename])\n",
    "    subprocess.run([\"python\", \"extract_industry.py\", all_text, filename])\n",
    "    subprocess.run([\"python\", \"extract_role.py\", all_text, filename])\n",
    "    subprocess.run([\"python\", \"extract_topic.py\", all_text, filename])\n",
    "\n",
    "#Downloading the pdf file\n",
    "def download_pdf(url):\n",
    "    \n",
    "    # Get the actual filename from the URL\n",
    "    filename = os.path.basename(url)\n",
    "\n",
    "    if '.pdf' in filename:\n",
    "        filename = filename[:filename.index('.pdf') + 4]\n",
    "    \n",
    "    #Create the pdf file locally\n",
    "    r = requests.get(url, stream=True)\n",
    "\n",
    "    #Access the pdf\n",
    "    with open(filename, \"wb\") as pdf:\n",
    "        for chunk in r.iter_content(chunk_size=1024):\n",
    "            if chunk:\n",
    "                pdf.write(chunk)\n",
    "\n",
    "    return filename\n",
    "\n",
    "if __name__ == \"__main__\":\n",
    "    main()\n"
   ]
  }
 ],
 "metadata": {
  "kernelspec": {
   "display_name": "Python 3 (ipykernel)",
   "language": "python",
   "name": "python3"
  },
  "language_info": {
   "codemirror_mode": {
    "name": "ipython",
    "version": 3
   },
   "file_extension": ".py",
   "mimetype": "text/x-python",
   "name": "python",
   "nbconvert_exporter": "python",
   "pygments_lexer": "ipython3",
   "version": "3.9.13"
  }
 },
 "nbformat": 4,
 "nbformat_minor": 5
}
